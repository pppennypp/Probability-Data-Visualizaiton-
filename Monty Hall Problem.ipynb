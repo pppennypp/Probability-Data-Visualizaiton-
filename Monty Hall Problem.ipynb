{
 "cells": [
  {
   "cell_type": "markdown",
   "metadata": {},
   "source": [
    "# Monty Hall problem:\n",
    "Given below is the description of the problem.\n",
    "\n",
    "Suppose you're on a game show and you're given the choice of three doors.\n",
    "\n",
    "Behind one door is a car; behind the others, goats. The car and the goats were placed randomly behind the doors before the show.\n",
    "\n",
    "The rules are:\n",
    "After you have chosen a door, the door remains closed for the time being. The game show host, Monty Hall, who knows what is behind the doors, now has to open one of the two remaining doors, and the door he opens must have a goat behind it. If both remaining doors have goats behind them, he chooses one randomly.\n",
    "\n",
    "After Monty opens a door with a goat, he will ask you to decide whether you want to stay with your first choice or to switch to the last remaining door. Imagine that you chose Door 1 and the host opens Door 3, which has a goat. He then asks you \"Do you want to switch to Door Number 2?\" Is it to your advantage to change your choice?"
   ]
  },
  {
   "cell_type": "code",
   "execution_count": 1,
   "metadata": {},
   "outputs": [],
   "source": [
    "import random\n",
    "import numpy as np\n",
    "import matplotlib.pyplot as plt\n",
    "%matplotlib inline"
   ]
  },
  {
   "cell_type": "code",
   "execution_count": 2,
   "metadata": {},
   "outputs": [],
   "source": [
    "samples = 5000"
   ]
  },
  {
   "cell_type": "code",
   "execution_count": 3,
   "metadata": {},
   "outputs": [],
   "source": [
    "change, no_change = [], []"
   ]
  },
  {
   "cell_type": "code",
   "execution_count": 4,
   "metadata": {},
   "outputs": [],
   "source": [
    "for i in range(5000):\n",
    "    start = [1,0,0]\n",
    "    random.shuffle(start)\n",
    "    #make choice \n",
    "    choice = start.pop(random.randint(0,2))\n",
    "    no_change.append(choice) #outcome if do not change the choice\n",
    "    \n",
    "    #Monty Hall shows bad door\n",
    "    if sum(start)==0:\n",
    "        goat = start.pop(random.randint(0,1))\n",
    "    else:\n",
    "        goat = start.pop(int(np.where(np.array(start)==0)[0]))\n",
    "    change.append(start)"
   ]
  },
  {
   "cell_type": "code",
   "execution_count": 5,
   "metadata": {},
   "outputs": [
    {
     "data": {
      "text/plain": [
       "Text(0.5, 1.0, 'Probability of choosing the car')"
      ]
     },
     "execution_count": 5,
     "metadata": {},
     "output_type": "execute_result"
    },
    {
     "data": {
      "image/png": "[encoded data removed]",
      "text/plain": [
       "<Figure size 432x288 with 1 Axes>"
      ]
     },
     "metadata": {
      "needs_background": "light"
     },
     "output_type": "display_data"
    }
   ],
   "source": [
    "columns = ['Do not change choice', 'Change choice']\n",
    "pvalue = [np.mean(no_change),np.mean(change)]\n",
    "plt.bar(columns,height=pvalue)\n",
    "plt.title('Probability of choosing the car')"
   ]
  },
  {
   "cell_type": "code",
   "execution_count": 6,
   "metadata": {},
   "outputs": [
    {
     "name": "stdout",
     "output_type": "stream",
     "text": [
      "The probability of choosing car is 0.34 if the player does not change choice;\n",
      "whereas the probability of choosing car is 0.66 if the player changes choice.  It seems like if the player changes choice, it is more likely to win the car.\n"
     ]
    }
   ],
   "source": [
    "print('The probability of choosing car is %s if the player does not change choice;' %round(np.mean(no_change),2))\n",
    "print('whereas the probability of choosing car is %s if the player changes choice.  It seems like if the player changes choice, it is more likely to win the car.' %round(np.mean(change),2))"
   ]
  }
 ],
 "metadata": {
  "kernelspec": {
   "display_name": "Python 3",
   "language": "python",
   "name": "python3"
  },
  "language_info": {
   "codemirror_mode": {
    "name": "ipython",
    "version": 3
   },
   "file_extension": ".py",
   "mimetype": "text/x-python",
   "name": "python",
   "nbconvert_exporter": "python",
   "pygments_lexer": "ipython3",
   "version": "3.7.3"
  }
 },
 "nbformat": 4,
 "nbformat_minor": 2
}
