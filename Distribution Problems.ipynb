{
 "cells": [
  {
   "cell_type": "markdown",
   "metadata": {},
   "source": [
    "Exercises from OpenIntro Statistics :Third Edition Chapters 3(review), 4 and 5:\n",
    "\n",
    "3.8, 3.32, 4.10, 4.30, 5.4, 5.20."
   ]
  },
  {
   "cell_type": "markdown",
   "metadata": {},
   "source": [
    "## 3.8 CAPM. \n",
    "The Capital Asset Pricing Model (CAPM) is a financial model that assumes returns on a portfolio are normally distributed. Suppose a portfolio has an average annual return of 14.7%\n",
    "(i.e. an average gain of 14.7%) with a standard deviation of 33%. A return of 0% means the value of the portfolio doesn't change, a negative return means that the portfolio loses money, and a positive return means that the portfolio gains money."
   ]
  },
  {
   "cell_type": "markdown",
   "metadata": {},
   "source": [
    "**(a) What percent of years does this portfolio lose money, i.e. have a return less than 0%?**"
   ]
  },
  {
   "cell_type": "code",
   "execution_count": 1,
   "metadata": {},
   "outputs": [],
   "source": [
    "from scipy import stats\n",
    "mean = 0.147\n",
    "std = 0.33\n",
    "z = (0-mean)/std"
   ]
  },
  {
   "cell_type": "code",
   "execution_count": 2,
   "metadata": {
    "scrolled": true
   },
   "outputs": [
    {
     "name": "stdout",
     "output_type": "stream",
     "text": [
      " 32.8% of years this portfolio loses money.\n"
     ]
    }
   ],
   "source": [
    "p_value = stats.norm.cdf(z)\n",
    "print(' %s%% of years this portfolio loses money.' %round(p_value*100,2))"
   ]
  },
  {
   "cell_type": "markdown",
   "metadata": {},
   "source": [
    "**(b) What is the cutoff for the highest 15% of annual returns with this portfolio?**"
   ]
  },
  {
   "cell_type": "code",
   "execution_count": 3,
   "metadata": {},
   "outputs": [],
   "source": [
    "p = 1-0.15"
   ]
  },
  {
   "cell_type": "code",
   "execution_count": 4,
   "metadata": {},
   "outputs": [],
   "source": [
    "z = stats.norm.ppf(p)"
   ]
  },
  {
   "cell_type": "code",
   "execution_count": 5,
   "metadata": {},
   "outputs": [],
   "source": [
    "cutoff = z*std + mean"
   ]
  },
  {
   "cell_type": "code",
   "execution_count": 6,
   "metadata": {},
   "outputs": [
    {
     "name": "stdout",
     "output_type": "stream",
     "text": [
      "The cutoff for the highest 15 percent of annual returns with this portfolio is 48.9%\n"
     ]
    }
   ],
   "source": [
    "print('The cutoff for the highest 15 percent of annual returns with this portfolio is %s%%' %round(cutoff*100,2))"
   ]
  },
  {
   "cell_type": "markdown",
   "metadata": {},
   "source": [
    "## 3.32 Arachnophobia. \n",
    "A 2005 Gallup Poll found that 7% of teenagers (ages 13 to 17) suffer from arachnophobia and are extremely afraid of spiders. At a summer camp there are 10 teenagers sleeping in each tent. Assume that these 10 teenagers are independent of each other."
   ]
  },
  {
   "cell_type": "markdown",
   "metadata": {},
   "source": [
    "**(a) Calculate the probability that at least one of them suffers from arachnophobia.**"
   ]
  },
  {
   "cell_type": "code",
   "execution_count": 7,
   "metadata": {},
   "outputs": [],
   "source": [
    "p = 1 - (1-0.07)**10"
   ]
  },
  {
   "cell_type": "code",
   "execution_count": 8,
   "metadata": {},
   "outputs": [
    {
     "name": "stdout",
     "output_type": "stream",
     "text": [
      "The probability that at least one of them suffers from arachnophobia is 51.6%\n"
     ]
    }
   ],
   "source": [
    "print('The probability that at least one of them suffers from arachnophobia is %s%%' %round(p*100,2))"
   ]
  },
  {
   "cell_type": "markdown",
   "metadata": {},
   "source": [
    "**(b) Calculate the probability that exactly 2 of them suffer from arachnophobia.**"
   ]
  },
  {
   "cell_type": "code",
   "execution_count": 9,
   "metadata": {},
   "outputs": [],
   "source": [
    "import math\n",
    "def nCr(n,r):\n",
    "    f = math.factorial\n",
    "    return f(n)/f(r)/f(n-r)"
   ]
  },
  {
   "cell_type": "code",
   "execution_count": 10,
   "metadata": {},
   "outputs": [
    {
     "name": "stdout",
     "output_type": "stream",
     "text": [
      "The probability that exactly 2 of them suffer from arachnophobia is 12.34%\n"
     ]
    }
   ],
   "source": [
    "n=10\n",
    "r=2\n",
    "p = nCr(n,r)*(0.07**r)*((1-0.07)**(n-r))\n",
    "print('The probability that exactly 2 of them suffer from arachnophobia is %s%%' %round(p*100,2))"
   ]
  },
  {
   "cell_type": "markdown",
   "metadata": {},
   "source": [
    "**(c) Calculate the probability that at most 1 of them suffers from arachnophobia.**"
   ]
  },
  {
   "cell_type": "code",
   "execution_count": 11,
   "metadata": {},
   "outputs": [
    {
     "name": "stdout",
     "output_type": "stream",
     "text": [
      "The probability that at most 1 of them suffers is 84.83%\n"
     ]
    }
   ],
   "source": [
    "n=10\n",
    "p_value = 0\n",
    "for r in range(2):\n",
    "    p = nCr(n,r)*(0.07**r)*((1-0.07)**(n-r))\n",
    "    p_value = p_value + p\n",
    "print('The probability that at most 1 of them suffers is %s%%' %round(p_value*100,2))"
   ]
  },
  {
   "cell_type": "markdown",
   "metadata": {},
   "source": [
    "**(d) If the camp counselor wants to make sure no more than 1 teenager in each tent is afraid of spiders, does it seem reasonable for him to randomly assign teenagers to tents?**"
   ]
  },
  {
   "cell_type": "markdown",
   "metadata": {},
   "source": [
    "Yes. There is about an 85% chance that when 10 teenagers are assigned at random, no more than one of them will suffer from arachnophobia, so the odds are in his favor and he can randomly assign."
   ]
  },
  {
   "cell_type": "markdown",
   "metadata": {},
   "source": [
    "## 4.10 Twitter users and news, Part II. \n",
    "A poll conducted in 2013 found that 52% of U.S. adult Twitter users get at least some news on Twitter, and the standard error for this estimate was 2.4%. Identify each of the following statements as true or false. Provide an explanation to justify each of your answers."
   ]
  },
  {
   "cell_type": "markdown",
   "metadata": {},
   "source": [
    "**(a) The data provide statistically significant evidence that more than half of U.S. adult Twitter\n",
    "users get some news through Twitter. Use a significance level of 𝛼 = 0.01.**"
   ]
  },
  {
   "cell_type": "markdown",
   "metadata": {},
   "source": [
    "False. BY adding and subtracting 1 standard error from the population mean, we have 68% confidence interval that 49.6% to 54.4% of US adult Twitter users get some news through Twitter. The lower point falls below 50% baseline. By increasing confidence interval, the lower cutoff point decreases further. Therefore, we can not support this statement."
   ]
  },
  {
   "cell_type": "markdown",
   "metadata": {},
   "source": [
    "**(b) Since the standard error is 2.4%, we can conclude that 97.6% of all U.S. adult Twitter users were included in the study.**"
   ]
  },
  {
   "cell_type": "markdown",
   "metadata": {},
   "source": [
    "False. The standard error of the mean dexcribes how far a sample mean may stray from the population mean. It does not conclude information on overall distribution of the population. "
   ]
  },
  {
   "cell_type": "markdown",
   "metadata": {},
   "source": [
    "**(c) If we want to reduce the standard error of the estimate, we should collect less data.**"
   ]
  },
  {
   "cell_type": "markdown",
   "metadata": {},
   "source": [
    "False. By definition, 𝑆𝐸𝑥 𝑥=𝜎/𝑛, standard error is reversely related to the sample size. Therefore, if we want to reduce the standard error of the estimate, we should collect more data. "
   ]
  },
  {
   "cell_type": "markdown",
   "metadata": {},
   "source": [
    "**(d) If we construct a 90% confidence interval for the percentage of U.S. adults Twitter users who get some news through Twitter, this confidence interval will be wider than a corresponding 99% confidence interval.**"
   ]
  },
  {
   "cell_type": "markdown",
   "metadata": {},
   "source": [
    "False. With a 99% confidence level, the population parameter lies within a confidence interval of plus-or-minus 2.58 standard errors of the sample statistic. Whereas, with a 90% confidence level, the population parameter lies within plus-or-minus 1.645 standard errors. Apparently, 99% confidence interval is wider than 90%."
   ]
  },
  {
   "cell_type": "markdown",
   "metadata": {},
   "source": [
    "## 4.30 Testing for food safety.\n",
    "A food safety inspector is called upon to investigate a restaurant with a few customer reports of poor sanitation practices. The food safety inspector uses a hypothesis testing framework to evaluate whether regulations are not being met. If he decides the restaurant is in gross violation, its license to serve food will be revoked."
   ]
  },
  {
   "cell_type": "markdown",
   "metadata": {},
   "source": [
    "**(a) Write the hypotheses in words.**"
   ]
  },
  {
   "cell_type": "markdown",
   "metadata": {},
   "source": [
    "Null hypothesis is that the restaurant is not in gross violation and its license should not be revoked. The alternative hypothesis is that the restaurant is in violation and the license should be revoked. We can either reject or fail to reject the null hypothesis. If the null hypothesis is rejected, then we say the data supports the alternative hypothesis."
   ]
  },
  {
   "cell_type": "markdown",
   "metadata": {},
   "source": [
    "**(b) What is a Type 1 Error in this context?**"
   ]
  },
  {
   "cell_type": "markdown",
   "metadata": {},
   "source": [
    "Type 1 Error is the senario when we have a false positive; in this case, if the restaurant is not in gross violation and we reject the null hypothesis, that is a Type 1 Error."
   ]
  },
  {
   "cell_type": "markdown",
   "metadata": {},
   "source": [
    "**(c) What is a Type 2 Error in this context?**"
   ]
  },
  {
   "cell_type": "markdown",
   "metadata": {},
   "source": [
    "Type 2 Error is the senario when we have a false nagative;in this case, if the restaurant is in gross violation and we fail to reject the null hypothesis, then this is a Type 2 Error."
   ]
  },
  {
   "cell_type": "markdown",
   "metadata": {},
   "source": [
    "**(d) Which error is more problematic for the restaurant owner? Why?**"
   ]
  },
  {
   "cell_type": "markdown",
   "metadata": {},
   "source": [
    "For the restaurant owner, Type 1 Error is more problematic because it may revoke a restaurant's license by mistake."
   ]
  },
  {
   "cell_type": "markdown",
   "metadata": {},
   "source": [
    "**(e) Which error is more problematic for the diners? Why?**"
   ]
  },
  {
   "cell_type": "markdown",
   "metadata": {},
   "source": [
    "For the diners, Type 2 Error is more problematic because if this happens, the diners might be visiting a restaurant in gross violation without knowing the real condition. "
   ]
  },
  {
   "cell_type": "markdown",
   "metadata": {},
   "source": [
    "**(f) As a diner, would you prefer that the food safety inspector requires strong evidence or very strong evidence of health concerns before revoking a restaurant's license? Explain your reasoning.**"
   ]
  },
  {
   "cell_type": "markdown",
   "metadata": {},
   "source": [
    "## 5.4 Find the p-value, Part II.\n",
    "An independent random sample is selected from an approximately normal population with an unknown standard deviation. Find the p-value for the given set of hypotheses and T test statistic. Also determine if the null hypothesis would be rejected at 𝛼 = 0.01."
   ]
  },
  {
   "cell_type": "markdown",
   "metadata": {},
   "source": [
    "**(a) 𝐻a: 𝜇 > 0.5, n = 26, T = 2.485**"
   ]
  },
  {
   "cell_type": "markdown",
   "metadata": {},
   "source": [
    "df = 25. Using the table with row 25 we see that 2.485 is between 2.06 and 2.49, so the one sided tail has area between 0.010 and 0.025. It’s much closer to 0.010 since 2.485 ≈ 2.49, but it is still larger than 0.010, therefore the null hypothesis is not rejected at α = 0.01."
   ]
  },
  {
   "cell_type": "markdown",
   "metadata": {},
   "source": [
    "**(b) 𝐻a: 𝜇 < 3, n = 18, T = 0.5**"
   ]
  },
  {
   "cell_type": "markdown",
   "metadata": {},
   "source": [
    "df = 17, 0.5 < 1.33. The p-value is larger than 0.1, so the null hypothesis is not rejected at 𝛼 = 0.01."
   ]
  },
  {
   "cell_type": "markdown",
   "metadata": {},
   "source": [
    "## 5.20 High School and Beyond, Part I.\n",
    "The National Center of Education Statistics conducted a survey of high school seniors, collecting test data on reading, writing, and several other subjects. Here we examine a simple random sample of 200 students from this survey. Side-by-side box plots of reading and writing scores as well as a histogram of the differences in scores are shown below."
   ]
  },
  {
   "cell_type": "code",
   "execution_count": 12,
   "metadata": {},
   "outputs": [
    {
     "data": {
      "image/png": "[encoded data removed]",
      "text/plain": [
       "<IPython.core.display.Image object>"
      ]
     },
     "execution_count": 12,
     "metadata": {},
     "output_type": "execute_result"
    }
   ],
   "source": [
    "from IPython.display import Image\n",
    "Image(filename='chart.png')"
   ]
  },
  {
   "cell_type": "markdown",
   "metadata": {},
   "source": [
    "**(a) Is there a clear difference in the average reading and writing scores?**"
   ]
  },
  {
   "cell_type": "markdown",
   "metadata": {},
   "source": [
    "The relevant data is the histogram, since it’s the distribution of the paired differences.There seems to be more negative differences than positive differences. The proportion is slight, without knowing the actual numbers, one can’t conclusively say it’s clear."
   ]
  },
  {
   "cell_type": "markdown",
   "metadata": {},
   "source": [
    "**(b) Are the reading and writing scores of each student independent of each other?**"
   ]
  },
  {
   "cell_type": "markdown",
   "metadata": {},
   "source": [
    "No."
   ]
  },
  {
   "cell_type": "markdown",
   "metadata": {},
   "source": [
    "**(c) Create hypotheses appropriate for the following research question: is there an evident difference in the average scores of students in the reading and writing exam?**"
   ]
  },
  {
   "cell_type": "markdown",
   "metadata": {},
   "source": [
    "**Null Hypothesis**: The average scores in the reading exams and in the writing exams are the same.\n",
    "\n",
    "**Alternative Hypothesis**: The average scores in the reading exams and in the writing exams are different.\n",
    "\n",
    "H0: µdiff = 0.\n",
    "\n",
    "HA: µdiff != 0."
   ]
  },
  {
   "cell_type": "markdown",
   "metadata": {},
   "source": [
    "**(d) Check the conditions required to complete this test.**"
   ]
  },
  {
   "cell_type": "markdown",
   "metadata": {},
   "source": [
    "We have a simple random sample, noting it’s from a survey, so it might not be random enough. We may assume the observations are independent. The distribution of the differences is nearly normal. It’s a little skewed, but with n = 200, the skewness does not impact the results."
   ]
  },
  {
   "cell_type": "markdown",
   "metadata": {},
   "source": [
    "**(e) The average observed difference in scores is X̂read-write = -0.545, and the standard deviation of the diFFerences is 8.887 points. Do these data provide convincing evidence of a difference between the average scores on the two exams?**"
   ]
  },
  {
   "cell_type": "code",
   "execution_count": 13,
   "metadata": {},
   "outputs": [
    {
     "data": {
      "text/plain": [
       "-0.8672739861520613"
      ]
     },
     "execution_count": 13,
     "metadata": {},
     "output_type": "execute_result"
    }
   ],
   "source": [
    "t = (-0.545-0)/(8.887/200**0.5)\n",
    "t"
   ]
  },
  {
   "cell_type": "markdown",
   "metadata": {},
   "source": [
    "Given that it’s a two-sided test, the p-value with df = 199 for that t-score is bigger than 0.2, therefore there is not evidence to reject the null hypothesis."
   ]
  },
  {
   "cell_type": "markdown",
   "metadata": {},
   "source": [
    "**(f) What type of error might we have made? Explain what the error means in the context of the application.**"
   ]
  },
  {
   "cell_type": "markdown",
   "metadata": {},
   "source": [
    "Since we didn’t reject the null hypothesis, the possible error is a Type 2 error (failing to reject the null when the null is false). In the context, a Type 2 error means that there is a difference in the scores of students in the reading and writing sections but that we didn’t detect it."
   ]
  },
  {
   "cell_type": "markdown",
   "metadata": {},
   "source": [
    "**(g) Based on the results of this hypothesis test, would you expect a confidence interval for the average difference between the reading and writing scores to include 0? Explain your reasoning.**"
   ]
  },
  {
   "cell_type": "markdown",
   "metadata": {},
   "source": [
    "Yes, because the null hypothesis is not rejected, so 0 is a plausible value."
   ]
  }
 ],
 "metadata": {
  "kernelspec": {
   "display_name": "Python 3",
   "language": "python",
   "name": "python3"
  },
  "language_info": {
   "codemirror_mode": {
    "name": "ipython",
    "version": 3
   },
   "file_extension": ".py",
   "mimetype": "text/x-python",
   "name": "python",
   "nbconvert_exporter": "python",
   "pygments_lexer": "ipython3",
   "version": "3.7.3"
  }
 },
 "nbformat": 4,
 "nbformat_minor": 2
}
