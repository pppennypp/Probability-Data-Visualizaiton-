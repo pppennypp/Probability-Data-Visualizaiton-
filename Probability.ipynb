{
 "cells": [
  {
   "cell_type": "markdown",
   "metadata": {},
   "source": [
    "**2.30 Books on a bookshelf**. The table below shows the distribution of books on a bookcase based on whether they are nonfiction or fiction and hardcover or paperback.\n",
    "\n",
    "\n",
    "Type\tHardcover\tPaperback\tTotal\n",
    "\n",
    "Fiction\t13\t59\t72\n",
    "\n",
    "Non-fiction\t15\t8\t23\n",
    "\n",
    "Total\t28\t67\t95\n"
   ]
  },
  {
   "cell_type": "markdown",
   "metadata": {},
   "source": [
    "**(a) Find the probability of drawing a hardcover book first then a paperback fiction book second when drawing without replacement.**"
   ]
  },
  {
   "cell_type": "code",
   "execution_count": 1,
   "metadata": {},
   "outputs": [
    {
     "data": {
      "text/plain": [
       "0.2100783874580067"
      ]
     },
     "execution_count": 1,
     "metadata": {},
     "output_type": "execute_result"
    }
   ],
   "source": [
    "a = (28/95)*(67/94)\n",
    "a"
   ]
  },
  {
   "cell_type": "markdown",
   "metadata": {},
   "source": [
    "**(b) Determine the probability of drawing a fiction book first and then a hardcover book second, when drawing without replacement.**"
   ]
  },
  {
   "cell_type": "code",
   "execution_count": 2,
   "metadata": {},
   "outputs": [
    {
     "data": {
      "text/plain": [
       "0.22430011198208288"
      ]
     },
     "execution_count": 2,
     "metadata": {},
     "output_type": "execute_result"
    }
   ],
   "source": [
    "b = (13/95)*(27/94) + (59/95)*(28/94)\n",
    "b"
   ]
  },
  {
   "cell_type": "markdown",
   "metadata": {},
   "source": [
    "**(c) Calculate the probability of the scenario in part (b), except this time complete the calculations under the scenario where the first book is placed back on the bookcase before randomly drawing the second book.**"
   ]
  },
  {
   "cell_type": "code",
   "execution_count": 3,
   "metadata": {},
   "outputs": [
    {
     "data": {
      "text/plain": [
       "0.22337950138504153"
      ]
     },
     "execution_count": 3,
     "metadata": {},
     "output_type": "execute_result"
    }
   ],
   "source": [
    "c = (72/95)*(28/95)\n",
    "c"
   ]
  },
  {
   "cell_type": "markdown",
   "metadata": {},
   "source": [
    "**(d) The final answers to parts (b) and (c) are very similar. Explain why this is the case.**"
   ]
  },
  {
   "cell_type": "markdown",
   "metadata": {},
   "source": [
    "When the first task of drawing a fiction book in the same in (b) and (c), the difference lies in the second part. If drawing without repalcement in (b), the sample size would be 94 whereas in (c) the first book is placed back on the bookcase, so the sample size would be 95. That is why the answers are very similar. "
   ]
  },
  {
   "cell_type": "markdown",
   "metadata": {},
   "source": [
    "**2.34 Ace of clubs wins**. Consider the following card game with a well shuffled deck of cards. If you draw a red card, you win nothing. If you get a spade, you win 5. For any club, you win 10 plus an extra 20 for the ace of clubs."
   ]
  },
  {
   "cell_type": "markdown",
   "metadata": {},
   "source": [
    "**(a) Create a probability model for the amount you win at this game. Also, find the expected winnings for a single game and the standard deviation of the winnings.**"
   ]
  },
  {
   "cell_type": "markdown",
   "metadata": {},
   "source": [
    "Amount that can be won: 0,5,10,30 and the corresponding probabilities are as follows:\n",
    "\n",
    "Probability of drawing a red card: 26/52\n",
    "\n",
    "Probability of drawing a spade: 13/52\n",
    "\n",
    "Probability of drawing a not-Ace club: 12/52\n",
    "\n",
    "probability of drawing the ace of club: 1/52"
   ]
  },
  {
   "cell_type": "code",
   "execution_count": 4,
   "metadata": {},
   "outputs": [],
   "source": [
    "#create an array for possible winnings \n",
    "import numpy as np\n",
    "x = np.array([0,5,10,30])"
   ]
  },
  {
   "cell_type": "code",
   "execution_count": 5,
   "metadata": {},
   "outputs": [],
   "source": [
    "#create an array for the corresponding possibilities\n",
    "p =np.array([26/52,13/52,12/52,1/52])"
   ]
  },
  {
   "cell_type": "code",
   "execution_count": 6,
   "metadata": {},
   "outputs": [
    {
     "name": "stdout",
     "output_type": "stream",
     "text": [
      "The expected winnings is 4.13\n"
     ]
    }
   ],
   "source": [
    "Expectedwinning = sum(x*p)\n",
    "print('The expected winnings is %s' %round(Expectedwinning,2))"
   ]
  },
  {
   "cell_type": "code",
   "execution_count": 7,
   "metadata": {},
   "outputs": [
    {
     "name": "stdout",
     "output_type": "stream",
     "text": [
      "The standard deviation is 5.44\n"
     ]
    }
   ],
   "source": [
    "var = 0\n",
    "for i in range(len(x)):\n",
    "    var += ((x[i]-Expectedwinning)**2)*p[i]\n",
    "print('The standard deviation is %s'  %round(var**0.5,2))"
   ]
  },
  {
   "cell_type": "markdown",
   "metadata": {},
   "source": [
    "**(b) What is the maximum amount you would be willing to pay to play this game? Explain your reasoning.**"
   ]
  },
  {
   "cell_type": "markdown",
   "metadata": {},
   "source": [
    "Pay any more than 4.13, you will lose money in the long run. So the maximum amout one would be willing to pay is 4.13"
   ]
  },
  {
   "cell_type": "markdown",
   "metadata": {},
   "source": [
    "**2.40 European roulette**. The game of European roulette involves spinning a wheel with 37 slots: 18 red, 18 black, and 1 green. A ball is spun onto the wheel and will eventually land in a slot, where each slot has an equal chance of capturing the ball. Gamblers can place bets on red or black. If the ball lands on their color, they double their money. If it lands on another color, they lose their money."
   ]
  },
  {
   "cell_type": "markdown",
   "metadata": {},
   "source": [
    "**(a) Suppose you play roulette and bet $3 on a single round. What is the expected value and standard deviation of your total winnings?**"
   ]
  },
  {
   "cell_type": "code",
   "execution_count": 8,
   "metadata": {},
   "outputs": [],
   "source": [
    "#possible outcomes\n",
    "x = np.array([-3,3])\n",
    "p = np.array([19/37,18/37])"
   ]
  },
  {
   "cell_type": "code",
   "execution_count": 9,
   "metadata": {},
   "outputs": [
    {
     "name": "stdout",
     "output_type": "stream",
     "text": [
      "The expected winnings is -0.08\n"
     ]
    }
   ],
   "source": [
    "Expectedwinning = sum(x*p)\n",
    "print('The expected winnings is %s' %round(Expectedwinning,2))"
   ]
  },
  {
   "cell_type": "code",
   "execution_count": 10,
   "metadata": {},
   "outputs": [
    {
     "name": "stdout",
     "output_type": "stream",
     "text": [
      "The standard deviation is 3.0\n"
     ]
    }
   ],
   "source": [
    "var = 0\n",
    "for i in range(len(x)):\n",
    "    var += ((x[i]-Expectedwinning)**2)*p[i]\n",
    "print('The standard deviation is %s'  %round(var**0.5,2))"
   ]
  },
  {
   "cell_type": "markdown",
   "metadata": {},
   "source": [
    "**(b) Suppose you bet $1 in three different rounds. What is the expected value and standard deviation of your total winnings?**"
   ]
  },
  {
   "cell_type": "code",
   "execution_count": 11,
   "metadata": {},
   "outputs": [],
   "source": [
    "#possible outcomes: -3 (0 win), -1 (1 win), 1 (2 wins), 3 (3 wins)\n",
    "x = np.array([-3,-1,1,3])\n",
    "p = np.array([(19/37)**3,3*(18/37)*(19/37)*(19/37),3*(18/37)*(18/37)*(19/37),(18/37)**3])"
   ]
  },
  {
   "cell_type": "code",
   "execution_count": 12,
   "metadata": {},
   "outputs": [
    {
     "name": "stdout",
     "output_type": "stream",
     "text": [
      "The expected winnings is -0.08\n"
     ]
    }
   ],
   "source": [
    "Expectedwinning = sum(x*p)\n",
    "print('The expected winnings is %s' %round(Expectedwinning,2))"
   ]
  },
  {
   "cell_type": "code",
   "execution_count": 13,
   "metadata": {},
   "outputs": [
    {
     "name": "stdout",
     "output_type": "stream",
     "text": [
      "The standard deviation is 1.73\n"
     ]
    }
   ],
   "source": [
    "var = 0\n",
    "for i in range(len(x)):\n",
    "    var += ((x[i]-Expectedwinning)**2)*p[i]\n",
    "print('The standard deviation is %s'  %round(var**0.5,2))"
   ]
  },
  {
   "cell_type": "markdown",
   "metadata": {},
   "source": [
    "**(c) How do your answers to parts (a) and (b) compare? What does this say about the riskiness of the two games?**"
   ]
  },
  {
   "cell_type": "markdown",
   "metadata": {},
   "source": [
    "The expected returns of (a) and (b) are approximately close. However, the standard deviation of (a) almost doubles the standard deviation of (b), that means single on all your money is way more riskier than proportioning your money on multiple bets."
   ]
  },
  {
   "cell_type": "markdown",
   "metadata": {},
   "source": [
    "**Optional Question**\n",
    "\n",
    "Given the following set of numbers {49, 8, 48, 15, 47, 4, 16, 23, 43, 44, 42, 45, 46}. \n",
    "A function picks a random subset of size 6, and returns the minimum of that subset. \n",
    "\n",
    "What is the expected value of this function?"
   ]
  },
  {
   "cell_type": "code",
   "execution_count": 14,
   "metadata": {},
   "outputs": [],
   "source": [
    "import random"
   ]
  },
  {
   "cell_type": "code",
   "execution_count": 15,
   "metadata": {},
   "outputs": [],
   "source": [
    "mini = []\n",
    "for i in range(5000):\n",
    "    list = [49, 8, 48, 15, 47, 4, 16, 23, 43, 44, 42, 45, 46]\n",
    "    random.shuffle(list)\n",
    "    mini.append(min(list[0:6]))"
   ]
  },
  {
   "cell_type": "code",
   "execution_count": 16,
   "metadata": {},
   "outputs": [],
   "source": [
    "import matplotlib.pyplot as plt\n",
    "%matplotlib inline"
   ]
  },
  {
   "cell_type": "code",
   "execution_count": 17,
   "metadata": {},
   "outputs": [
    {
     "data": {
      "image/png": "[encoded data removed]",
      "text/plain": [
       "<Figure size 432x288 with 1 Axes>"
      ]
     },
     "metadata": {
      "needs_background": "light"
     },
     "output_type": "display_data"
    }
   ],
   "source": [
    "#use a permutation test to see the distribution\n",
    "plt.hist(mini)\n",
    "plt.show()"
   ]
  },
  {
   "cell_type": "code",
   "execution_count": 18,
   "metadata": {},
   "outputs": [],
   "source": [
    "import math"
   ]
  },
  {
   "cell_type": "code",
   "execution_count": 19,
   "metadata": {},
   "outputs": [],
   "source": [
    "#define a combination function\n",
    "def nCr(n,r):\n",
    "    f = math.factorial\n",
    "    return f(n)/f(r)/f(n-r)"
   ]
  },
  {
   "cell_type": "code",
   "execution_count": 20,
   "metadata": {},
   "outputs": [
    {
     "data": {
      "text/plain": [
       "1716.0"
      ]
     },
     "execution_count": 20,
     "metadata": {},
     "output_type": "execute_result"
    }
   ],
   "source": [
    "#totalcombintaions\n",
    "nCr(13,6)"
   ]
  },
  {
   "cell_type": "code",
   "execution_count": 21,
   "metadata": {},
   "outputs": [],
   "source": [
    "x = np.array([4,8,15,16,23,42,43,44]) #possible outcomes"
   ]
  },
  {
   "cell_type": "code",
   "execution_count": 22,
   "metadata": {},
   "outputs": [],
   "source": [
    "p = []\n",
    "for i in range (len(x)):\n",
    "     p.append(nCr(13-1-i, 5)/nCr(13,6))"
   ]
  },
  {
   "cell_type": "code",
   "execution_count": 23,
   "metadata": {},
   "outputs": [],
   "source": [
    "expectedreturn = sum(x*np.array(p))"
   ]
  },
  {
   "cell_type": "code",
   "execution_count": 24,
   "metadata": {},
   "outputs": [
    {
     "name": "stdout",
     "output_type": "stream",
     "text": [
      "The expected value of this function is 8.82\n"
     ]
    }
   ],
   "source": [
    "print('The expected value of this function is %s' %round(expectedreturn,2))"
   ]
  }
 ],
 "metadata": {
  "kernelspec": {
   "display_name": "Python 3",
   "language": "python",
   "name": "python3"
  },
  "language_info": {
   "codemirror_mode": {
    "name": "ipython",
    "version": 3
   },
   "file_extension": ".py",
   "mimetype": "text/x-python",
   "name": "python",
   "nbconvert_exporter": "python",
   "pygments_lexer": "ipython3",
   "version": "3.7.3"
  }
 },
 "nbformat": 4,
 "nbformat_minor": 2
}
